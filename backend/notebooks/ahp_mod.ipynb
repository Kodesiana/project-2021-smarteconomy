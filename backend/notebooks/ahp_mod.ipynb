{
 "cells": [
  {
   "cell_type": "code",
   "execution_count": 1,
   "metadata": {},
   "outputs": [],
   "source": [
    "import numpy as np\n",
    "import pandas as pd\n",
    "\n",
    "from scipy.stats import gmean\n",
    "\n",
    "from sklearn.preprocessing import MinMaxScaler\n",
    "\n",
    "np.set_printoptions(suppress=True)\n"
   ]
  },
  {
   "cell_type": "code",
   "execution_count": 2,
   "metadata": {},
   "outputs": [],
   "source": [
    "def internal_process_ahp(filename: str, factor: str):\n",
    "    # load factor vs factor comparison\n",
    "    p_crit = pd.read_excel(filename, sheet_name=factor, engine='openpyxl').iloc[:, 1:].values\n",
    "\n",
    "    # load factor vs alternative comparison and multiply them\n",
    "    p_alts = None\n",
    "    for i in range(1, p_crit.shape[0] + 1):\n",
    "        if p_alts is None:\n",
    "            p_alts = pd.read_excel(filename, sheet_name=f\"F{factor[1]}.{i}\").iloc[:, 1:].values\n",
    "        else:\n",
    "            p_alts = p_alts * pd.read_excel(filename, sheet_name=f\"F{factor[1]}.{i}\").iloc[:, 1:].values\n",
    "\n",
    "    # calculate eigenvalue\n",
    "    scaler = MinMaxScaler()\n",
    "    results = scaler.fit_transform(p_alts)\n",
    "\n",
    "    # calculate mean\n",
    "    return results.mean(axis=1)"
   ]
  },
  {
   "cell_type": "code",
   "execution_count": 3,
   "metadata": {},
   "outputs": [
    {
     "name": "stdout",
     "output_type": "stream",
     "text": [
      "{'cr': 0.0003365121361194246, 'as1': 0.40587681964425176, 'as2': 0.20872467568601616, 'as3': 0.09829038843688814, 'as4': 0.01478011359513138, 'as5': 0.13767611558214826, 'as6': 0.13465188705556425}\n"
     ]
    }
   ],
   "source": [
    "# process all factors\n",
    "ranks = []\n",
    "for factor in [\"F1\", \"F2\", \"F3\", \"F4\", \"F5\"]:\n",
    "    ranks.append(internal_process_ahp(\"ahp1.xlsx\", factor))\n",
    "\n",
    "# run geometric mean score\n",
    "master_matrix = np.array(ranks)\n",
    "master_matrix[master_matrix == 0] = 0.0001\n",
    "\n",
    "# calculate CM\n",
    "RI = 1.12\n",
    "CM = master_matrix.prod(axis=1) / master_matrix.mean(axis=1)\n",
    "# CI = np.abs((CM.mean() - 5) / (5 - 1)) # CM.mean() = lambda_max\n",
    "CI = CM.mean() # CM.mean() = lambda_max\n",
    "CR = CI / RI\n",
    "\n",
    "# solve for ranks\n",
    "final_rank = master_matrix.prod(axis=0) ** (1/master_matrix.shape[0])\n",
    "\n",
    "# divide by it's sum to scale it to 1\n",
    "final_rank = final_rank / final_rank.sum()\n",
    "\n",
    "print({\n",
    "    \"cr\": CR,\n",
    "    \"as1\": final_rank[0],\n",
    "    \"as2\": final_rank[1],\n",
    "    \"as3\": final_rank[2],\n",
    "    \"as4\": final_rank[3],\n",
    "    \"as5\": final_rank[4],\n",
    "    \"as6\": final_rank[5],\n",
    "})"
   ]
  },
  {
   "cell_type": "code",
   "execution_count": 5,
   "metadata": {},
   "outputs": [
    {
     "name": "stdout",
     "output_type": "stream",
     "text": [
      "F1 0.2393577511040067\n",
      "F2 0.24989199409670546\n",
      "F3 0.29166833327907593\n",
      "F4 0.30378469434696637\n",
      "F5 0.25663872761184503\n"
     ]
    }
   ],
   "source": [
    "fffs = [\"F1\", \"F2\", \"F3\", \"F4\", \"F5\"]\n",
    "for factor, rank_mat in zip(fffs, ranks):\n",
    "    print(factor, rank_mat.mean())\n"
   ]
  },
  {
   "cell_type": "code",
   "execution_count": 7,
   "metadata": {},
   "outputs": [],
   "source": [
    "factor_weights = np.array(ranks).mean(axis=1)"
   ]
  },
  {
   "cell_type": "code",
   "execution_count": 8,
   "metadata": {},
   "outputs": [
    {
     "data": {
      "text/plain": [
       "0.2393577511040067"
      ]
     },
     "execution_count": 8,
     "metadata": {},
     "output_type": "execute_result"
    }
   ],
   "source": [
    "factor_weights[0]"
   ]
  },
  {
   "cell_type": "code",
   "execution_count": null,
   "metadata": {},
   "outputs": [],
   "source": []
  }
 ],
 "metadata": {
  "kernelspec": {
   "display_name": "sempls2",
   "language": "python",
   "name": "python3"
  },
  "language_info": {
   "codemirror_mode": {
    "name": "ipython",
    "version": 3
   },
   "file_extension": ".py",
   "mimetype": "text/x-python",
   "name": "python",
   "nbconvert_exporter": "python",
   "pygments_lexer": "ipython3",
   "version": "3.10.8"
  },
  "orig_nbformat": 4,
  "vscode": {
   "interpreter": {
    "hash": "c0a8de978a4fff7f2cb24b66f6352fa46871f6fa169fdca5922b3d834a7e9195"
   }
  }
 },
 "nbformat": 4,
 "nbformat_minor": 2
}
