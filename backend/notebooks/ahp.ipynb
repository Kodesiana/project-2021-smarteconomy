{
 "cells": [
  {
   "cell_type": "code",
   "execution_count": 24,
   "metadata": {},
   "outputs": [],
   "source": [
    "import numpy as np\n",
    "import pandas as pd\n",
    "\n",
    "from sklearn.preprocessing import MinMaxScaler"
   ]
  },
  {
   "cell_type": "code",
   "execution_count": 4,
   "metadata": {},
   "outputs": [],
   "source": [
    "ratio_index_saaty = np.array([0, 0, 0.58, 0.9, 1.12, 1.24, 1.32, 1.41, 1.46, 1.49]) "
   ]
  },
  {
   "cell_type": "code",
   "execution_count": 18,
   "metadata": {},
   "outputs": [],
   "source": [
    "def process(filename, factor):\n",
    "    p_crit = pd.read_excel(filename, sheet_name=factor).iloc[:, 1:].values\n",
    "    p_alts = []\n",
    "    for i in range(1, p_crit.shape[0] + 1):\n",
    "        p_alts.append(pd.read_excel(\"ahp1.xlsx\", sheet_name=f\"F{factor[1]}.{i}\").iloc[:, 1:].values)\n",
    "\n",
    "    p_alts = np.array(p_alts)\n",
    "\n",
    "    n = p_crit.shape[0]\n",
    "    p_crit_total = np.sum(p_crit, axis=0)\n",
    "    p_crit_norm = np.mean(p_crit / p_crit_total, axis=1)\n",
    "\n",
    "    consistency_measure = np.sum(p_crit_norm * p_crit, axis=1) / p_crit_norm\n",
    "    print(consistency_measure)\n",
    "    lambda_max = np.sum(consistency_measure) / n\n",
    "    consistency_index = (lambda_max - n) / (n - 1)\n",
    "    ratio_index = consistency_index / ratio_index_saaty[n-1]\n",
    "\n",
    "    print(\"Consistency index:\", consistency_index)\n",
    "    print(\"Ratio index:\", ratio_index)\n",
    "\n",
    "    ranks_norm = []\n",
    "    for p_alt in p_alts[:]:\n",
    "        ranks_norm.append(np.mean(p_alt / np.sum(p_alt, axis=0), axis=1).reshape(-1, 1))\n",
    "\n",
    "    nilai_alternatif = np.sum(p_crit_norm * np.hstack(ranks_norm), axis=1)\n",
    "    ranking = list(zip(range(1, n+1), nilai_alternatif))\n",
    "    ranking.sort(key=lambda x: x[1], reverse=True)\n",
    "\n",
    "    return ranking"
   ]
  },
  {
   "cell_type": "code",
   "execution_count": 9,
   "metadata": {},
   "outputs": [
    {
     "name": "stdout",
     "output_type": "stream",
     "text": [
      "[6.78673081 7.87726286 8.60868192 6.3782875 ]\n",
      "Consistency index: 1.1375802571471645\n",
      "Ratio index: 1.2639780634968494\n",
      "[2. 2.]\n",
      "Consistency index: 0.0\n",
      "Ratio index: nan\n",
      "[2. 2.]\n",
      "Consistency index: 0.0\n",
      "Ratio index: nan\n",
      "[2. 2.]\n",
      "Consistency index: 0.0\n",
      "Ratio index: nan\n"
     ]
    },
    {
     "name": "stderr",
     "output_type": "stream",
     "text": [
      "/tmp/ipykernel_23305/2573642831.py:17: RuntimeWarning: invalid value encountered in double_scalars\n",
      "  ratio_index = consistency_index / ratio_index_saaty[n-1]\n",
      "/tmp/ipykernel_23305/2573642831.py:17: RuntimeWarning: invalid value encountered in double_scalars\n",
      "  ratio_index = consistency_index / ratio_index_saaty[n-1]\n",
      "/tmp/ipykernel_23305/2573642831.py:17: RuntimeWarning: invalid value encountered in double_scalars\n",
      "  ratio_index = consistency_index / ratio_index_saaty[n-1]\n"
     ]
    },
    {
     "name": "stdout",
     "output_type": "stream",
     "text": [
      "[11.27919332  9.91989381 10.14955644  9.60668874  9.15341835 10.56867221\n",
      " 10.00419414]\n",
      "Consistency index: 0.5162289765544941\n",
      "Ratio index: 0.3910825579958288\n"
     ]
    }
   ],
   "source": [
    "ranks = []\n",
    "for factor in [\"F1\", \"F2\", \"F3\", \"F4\", \"F5\"]:\n",
    "    ranks.extend([ranking[1] for ranking in process(\"ahp1.xlsx\", factor)])"
   ]
  },
  {
   "attachments": {},
   "cell_type": "markdown",
   "metadata": {},
   "source": [
    "## TRIK KEDUA HEHE"
   ]
  },
  {
   "cell_type": "code",
   "execution_count": 25,
   "metadata": {},
   "outputs": [],
   "source": [
    "def process2(filename, factor):\n",
    "    p_crit = pd.read_excel(filename, sheet_name=factor).iloc[:, 1:].values\n",
    "    p_alts = None\n",
    "    for i in range(1, p_crit.shape[0] + 1):\n",
    "        if p_alts is None:\n",
    "            p_alts = pd.read_excel(filename, sheet_name=f\"F{factor[1]}.{i}\").iloc[:, 1:].values\n",
    "        else:\n",
    "            p_alts = p_alts * pd.read_excel(filename, sheet_name=f\"F{factor[1]}.{i}\").iloc[:, 1:].values\n",
    "\n",
    "    scaler = MinMaxScaler()\n",
    "    results = scaler.fit_transform(p_alts)\n",
    "\n",
    "    return results.mean(axis=1)"
   ]
  },
  {
   "cell_type": "code",
   "execution_count": 32,
   "metadata": {},
   "outputs": [],
   "source": [
    "ranks = []\n",
    "for factor in [\"F1\", \"F2\", \"F3\", \"F4\", \"F5\"]:\n",
    "    ranks.append(process2(\"ahp1.xlsx\", factor))"
   ]
  },
  {
   "cell_type": "code",
   "execution_count": 49,
   "metadata": {},
   "outputs": [
    {
     "data": {
      "text/plain": [
       "array([0.41196572, 0.21185593, 0.09976493, 0.        , 0.13974151,\n",
       "       0.13667191])"
      ]
     },
     "execution_count": 49,
     "metadata": {},
     "output_type": "execute_result"
    }
   ],
   "source": [
    "arr = np.array(ranks)\n",
    "final_geom = arr.prod(axis=0) ** (1/arr.shape[0])\n",
    "final_geom = final_geom / final_geom.sum()\n",
    "final_geom"
   ]
  },
  {
   "cell_type": "code",
   "execution_count": null,
   "metadata": {},
   "outputs": [],
   "source": []
  }
 ],
 "metadata": {
  "kernelspec": {
   "display_name": "sempls2",
   "language": "python",
   "name": "python3"
  },
  "language_info": {
   "codemirror_mode": {
    "name": "ipython",
    "version": 3
   },
   "file_extension": ".py",
   "mimetype": "text/x-python",
   "name": "python",
   "nbconvert_exporter": "python",
   "pygments_lexer": "ipython3",
   "version": "3.10.8"
  },
  "orig_nbformat": 4,
  "vscode": {
   "interpreter": {
    "hash": "c0a8de978a4fff7f2cb24b66f6352fa46871f6fa169fdca5922b3d834a7e9195"
   }
  }
 },
 "nbformat": 4,
 "nbformat_minor": 2
}
